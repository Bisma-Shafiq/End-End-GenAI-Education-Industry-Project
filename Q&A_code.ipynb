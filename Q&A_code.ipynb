{
 "cells": [
  {
   "cell_type": "code",
   "execution_count": null,
   "metadata": {},
   "outputs": [
    {
     "name": "stderr",
     "output_type": "stream",
     "text": [
      "e:\\LangChain\\LangChain\\End-End-GenAI-Education-Industry-Project\\venv\\lib\\site-packages\\tqdm\\auto.py:21: TqdmWarning: IProgress not found. Please update jupyter and ipywidgets. See https://ipywidgets.readthedocs.io/en/stable/user_install.html\n",
      "  from .autonotebook import tqdm as notebook_tqdm\n"
     ]
    },
    {
     "data": {
      "text/plain": [
       "True"
      ]
     },
     "execution_count": 1,
     "metadata": {},
     "output_type": "execute_result"
    }
   ],
   "source": [
    "import google.generativeai as genai\n",
    "from langchain_google_genai import ChatGoogleGenerativeAI\n",
    "from langchain.prompts import PromptTemplate\n",
    "from langchain.chains import LLMChain, SequentialChain\n",
    "from langchain.chains import RetrievalQA\n",
    "from langchain_google_genai import GoogleGenerativeAIEmbeddings\n",
    "from langchain_google_genai.llms import GoogleGenerativeAI\n",
    "from langchain.vectorstores import FAISS\n",
    "import pinecone\n",
    "import os\n",
    "from dotenv import load_dotenv\n",
    "\n",
    "# Load environment variables\n",
    "load_dotenv()"
   ]
  },
  {
   "cell_type": "code",
   "execution_count": 6,
   "metadata": {},
   "outputs": [],
   "source": [
    "\n",
    "# Configure Google Generative AI\n",
    "GOOGLE_API_KEY = os.getenv(\"GOOGLE_API_KEY\")\n",
    "if not GOOGLE_API_KEY:\n",
    "    raise EnvironmentError(\"GOOGLE_API_KEY not found. Please set it in your .env file.\")\n",
    "\n",
    "genai.configure(api_key=GOOGLE_API_KEY)\n",
    "\n",
    "# Initialize Language Model\n",
    "llm = ChatGoogleGenerativeAI(model='gemini-1.5-flash', google_api_key=GOOGLE_API_KEY)"
   ]
  },
  {
   "cell_type": "markdown",
   "metadata": {},
   "source": [
    "# Load csv file"
   ]
  },
  {
   "cell_type": "code",
   "execution_count": 6,
   "metadata": {},
   "outputs": [],
   "source": [
    "from langchain.document_loaders.csv_loader import CSVLoader\n",
    "\n",
    "loader = CSVLoader(file_path='questions.csv',source_column='prompt')\n",
    "dataset = loader.load()\n"
   ]
  },
  {
   "cell_type": "markdown",
   "metadata": {},
   "source": [
    "# GoogleGenerativeAI for Word Embedding"
   ]
  },
  {
   "cell_type": "code",
   "execution_count": 7,
   "metadata": {},
   "outputs": [
    {
     "data": {
      "text/plain": [
       "768"
      ]
     },
     "execution_count": 7,
     "metadata": {},
     "output_type": "execute_result"
    }
   ],
   "source": [
    "embeddings = GoogleGenerativeAIEmbeddings(model=\"models/embedding-001\")\n",
    "e = embeddings.embed_query(\"What is your refund policy?\")\n",
    "type(e)\n",
    "len(e)"
   ]
  },
  {
   "cell_type": "markdown",
   "metadata": {},
   "source": [
    "# Create Vector DB"
   ]
  },
  {
   "cell_type": "code",
   "execution_count": 8,
   "metadata": {},
   "outputs": [],
   "source": [
    "# Create a FAISS instance for vector database from 'data'\n",
    "vectordb = FAISS.from_documents(documents=dataset,\n",
    "                                 embedding=embeddings)"
   ]
  },
  {
   "cell_type": "code",
   "execution_count": 9,
   "metadata": {},
   "outputs": [
    {
     "name": "stderr",
     "output_type": "stream",
     "text": [
      "C:\\Users\\Dell\\AppData\\Local\\Temp\\ipykernel_9408\\1824494725.py:3: LangChainDeprecationWarning: The method `BaseRetriever.get_relevant_documents` was deprecated in langchain-core 0.1.46 and will be removed in 1.0. Use :meth:`~invoke` instead.\n",
      "  docs = retriever.get_relevant_documents(\"duration of bootcamp?\")\n"
     ]
    },
    {
     "name": "stdout",
     "output_type": "stream",
     "text": [
      "[Document(metadata={'source': 'smart_shopping_assistant.csv', 'row': 604}, page_content='Product Name: Product 605\\nCategory: Toys\\nPrice: $6100\\nAvailability: In Stock\\nDescription: Description for Product 605'), Document(metadata={'source': 'smart_shopping_assistant.csv', 'row': 559}, page_content='Product Name: Product 560\\nCategory: Toys\\nPrice: $5650\\nAvailability: Out of Stock\\nDescription: Description for Product 560'), Document(metadata={'source': 'smart_shopping_assistant.csv', 'row': 464}, page_content='Product Name: Product 465\\nCategory: Toys\\nPrice: $4700\\nAvailability: In Stock\\nDescription: Description for Product 465'), Document(metadata={'source': 'smart_shopping_assistant.csv', 'row': 564}, page_content='Product Name: Product 565\\nCategory: Toys\\nPrice: $5700\\nAvailability: In Stock\\nDescription: Description for Product 565')]\n"
     ]
    }
   ],
   "source": [
    "# Create a retriever for querying the vector database\n",
    "retriever = vectordb.as_retriever(score_threshold = 0.3)\n",
    "docs = retriever.get_relevant_documents(\"duration of bootcamp?\")\n",
    "print(docs)"
   ]
  },
  {
   "cell_type": "markdown",
   "metadata": {},
   "source": [
    "# Retrievel QA"
   ]
  },
  {
   "cell_type": "code",
   "execution_count": 10,
   "metadata": {},
   "outputs": [],
   "source": [
    "chain = RetrievalQA.from_chain_type(llm=llm, chain_type='stuff',retriever=retriever,input_key='query',return_source_documents=True)"
   ]
  },
  {
   "cell_type": "markdown",
   "metadata": {},
   "source": [
    "# Q&A"
   ]
  },
  {
   "cell_type": "code",
   "execution_count": 15,
   "metadata": {},
   "outputs": [
    {
     "name": "stdout",
     "output_type": "stream",
     "text": [
      "{'query': 'Product5', 'result': 'Product 5 is a toy that costs $100 and is currently in stock.\\n', 'source_documents': [Document(metadata={'source': 'smart_shopping_assistant.csv', 'row': 50}, page_content='Product Name: Product 51\\nCategory: Electronics\\nPrice: $560\\nAvailability: In Stock\\nDescription: Description for Product 51'), Document(metadata={'source': 'smart_shopping_assistant.csv', 'row': 4}, page_content='Product Name: Product 5\\nCategory: Toys\\nPrice: $100\\nAvailability: In Stock\\nDescription: Description for Product 5'), Document(metadata={'source': 'smart_shopping_assistant.csv', 'row': 550}, page_content='Product Name: Product 551\\nCategory: Electronics\\nPrice: $5560\\nAvailability: In Stock\\nDescription: Description for Product 551'), Document(metadata={'source': 'smart_shopping_assistant.csv', 'row': 52}, page_content='Product Name: Product 53\\nCategory: Home Appliances\\nPrice: $580\\nAvailability: In Stock\\nDescription: Description for Product 53')]}\n"
     ]
    }
   ],
   "source": [
    "#print(chain(\"What if I don’t like this bootcamp?\"))\n",
    "#print(chain('What is the tuition fee for undergraduate programs?'))\n",
    "print(chain('Product5'))"
   ]
  },
  {
   "cell_type": "code",
   "execution_count": null,
   "metadata": {},
   "outputs": [
    {
     "name": "stdout",
     "output_type": "stream",
     "text": [
      "{'query': 'I have zero knowledge of Excel and belong to a non-technical\\n background. Can I take this course?', 'result': \"I don't know.  The provided text is about product information and doesn't contain information about a course or its prerequisites.\\n\", 'source_documents': [Document(metadata={'source': 'smart_shopping_assistant.csv', 'row': 783}, page_content='Product Name: Product 784\\nCategory: Books\\nPrice: $7890\\nAvailability: Out of Stock\\nDescription: Description for Product 784'), Document(metadata={'source': 'smart_shopping_assistant.csv', 'row': 873}, page_content='Product Name: Product 874\\nCategory: Books\\nPrice: $8790\\nAvailability: Out of Stock\\nDescription: Description for Product 874'), Document(metadata={'source': 'smart_shopping_assistant.csv', 'row': 883}, page_content='Product Name: Product 884\\nCategory: Books\\nPrice: $8890\\nAvailability: Out of Stock\\nDescription: Description for Product 884'), Document(metadata={'source': 'smart_shopping_assistant.csv', 'row': 843}, page_content='Product Name: Product 844\\nCategory: Books\\nPrice: $8490\\nAvailability: Out of Stock\\nDescription: Description for Product 844')]}\n"
     ]
    }
   ],
   "source": [
    "# print(chain(\"\"\"I have zero knowledge of Excel and belong to a non-technical\n",
    "#  background. Can I take this course?\"\"\"))"
   ]
  },
  {
   "cell_type": "code",
   "execution_count": null,
   "metadata": {},
   "outputs": [],
   "source": []
  }
 ],
 "metadata": {
  "kernelspec": {
   "display_name": "venv",
   "language": "python",
   "name": "python3"
  },
  "language_info": {
   "codemirror_mode": {
    "name": "ipython",
    "version": 3
   },
   "file_extension": ".py",
   "mimetype": "text/x-python",
   "name": "python",
   "nbconvert_exporter": "python",
   "pygments_lexer": "ipython3",
   "version": "3.9.13"
  }
 },
 "nbformat": 4,
 "nbformat_minor": 2
}
